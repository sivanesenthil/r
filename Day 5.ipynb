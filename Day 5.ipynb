{
 "cells": [
  {
   "cell_type": "code",
   "execution_count": 1,
   "id": "ca65f258",
   "metadata": {},
   "outputs": [
    {
     "data": {
      "text/html": [
       "'list'"
      ],
      "text/latex": [
       "'list'"
      ],
      "text/markdown": [
       "'list'"
      ],
      "text/plain": [
       "[1] \"list\""
      ]
     },
     "metadata": {},
     "output_type": "display_data"
    },
    {
     "data": {
      "text/html": [
       "<dl>\n",
       "\t<dt>$name</dt>\n",
       "\t\t<dd>'xyz'</dd>\n",
       "\t<dt>$dept</dt>\n",
       "\t\t<dd>'cse'</dd>\n",
       "\t<dt>$course</dt>\n",
       "\t\t<dd><ol class=list-inline>\n",
       "\t<li>'java'</li>\n",
       "\t<li>'python'</li>\n",
       "</ol>\n",
       "</dd>\n",
       "</dl>\n"
      ],
      "text/latex": [
       "\\begin{description}\n",
       "\\item[\\$name] 'xyz'\n",
       "\\item[\\$dept] 'cse'\n",
       "\\item[\\$course] \\begin{enumerate*}\n",
       "\\item 'java'\n",
       "\\item 'python'\n",
       "\\end{enumerate*}\n",
       "\n",
       "\\end{description}\n"
      ],
      "text/markdown": [
       "$name\n",
       ":   'xyz'\n",
       "$dept\n",
       ":   'cse'\n",
       "$course\n",
       ":   1. 'java'\n",
       "2. 'python'\n",
       "\n",
       "\n",
       "\n",
       "\n",
       "\n"
      ],
      "text/plain": [
       "$name\n",
       "[1] \"xyz\"\n",
       "\n",
       "$dept\n",
       "[1] \"cse\"\n",
       "\n",
       "$course\n",
       "[1] \"java\"   \"python\"\n"
      ]
     },
     "metadata": {},
     "output_type": "display_data"
    }
   ],
   "source": [
    "#class s3\n",
    "employee1=list(name=\"xyz\",dept=\"cse\",course=c(\"java\",\"python\"))\n",
    "class(employee1)#class creation\n",
    "employee1#object creation\n"
   ]
  },
  {
   "cell_type": "code",
   "execution_count": 2,
   "id": "e2870fa6",
   "metadata": {},
   "outputs": [
    {
     "data": {
      "text/html": [
       "'cse'"
      ],
      "text/latex": [
       "'cse'"
      ],
      "text/markdown": [
       "'cse'"
      ],
      "text/plain": [
       "[1] \"cse\""
      ]
     },
     "metadata": {},
     "output_type": "display_data"
    }
   ],
   "source": [
    "employee1$dept"
   ]
  },
  {
   "cell_type": "code",
   "execution_count": 5,
   "id": "943e917e",
   "metadata": {},
   "outputs": [
    {
     "data": {
      "text/html": [
       "'list'"
      ],
      "text/latex": [
       "'list'"
      ],
      "text/markdown": [
       "'list'"
      ],
      "text/plain": [
       "[1] \"list\""
      ]
     },
     "metadata": {},
     "output_type": "display_data"
    },
    {
     "data": {
      "text/html": [
       "<dl>\n",
       "\t<dt>$name</dt>\n",
       "\t\t<dd>'siva'</dd>\n",
       "\t<dt>$dept</dt>\n",
       "\t\t<dd>'cse'</dd>\n",
       "\t<dt>$course</dt>\n",
       "\t\t<dd><ol class=list-inline>\n",
       "\t<li>'java'</li>\n",
       "\t<li>'python'</li>\n",
       "</ol>\n",
       "</dd>\n",
       "</dl>\n"
      ],
      "text/latex": [
       "\\begin{description}\n",
       "\\item[\\$name] 'siva'\n",
       "\\item[\\$dept] 'cse'\n",
       "\\item[\\$course] \\begin{enumerate*}\n",
       "\\item 'java'\n",
       "\\item 'python'\n",
       "\\end{enumerate*}\n",
       "\n",
       "\\end{description}\n"
      ],
      "text/markdown": [
       "$name\n",
       ":   'siva'\n",
       "$dept\n",
       ":   'cse'\n",
       "$course\n",
       ":   1. 'java'\n",
       "2. 'python'\n",
       "\n",
       "\n",
       "\n",
       "\n",
       "\n"
      ],
      "text/plain": [
       "$name\n",
       "[1] \"siva\"\n",
       "\n",
       "$dept\n",
       "[1] \"cse\"\n",
       "\n",
       "$course\n",
       "[1] \"java\"   \"python\"\n"
      ]
     },
     "metadata": {},
     "output_type": "display_data"
    }
   ],
   "source": [
    "student=list(name=\"siva\",dept=\"cse\",course=c(\"java\",\"python\"))\n",
    "class(student)#class creation\n",
    "student#object creation\n"
   ]
  },
  {
   "cell_type": "code",
   "execution_count": 7,
   "id": "d22d319b",
   "metadata": {},
   "outputs": [
    {
     "ename": "ERROR",
     "evalue": "Error in fuction(b): could not find function \"fuction\"\n",
     "output_type": "error",
     "traceback": [
      "Error in fuction(b): could not find function \"fuction\"\nTraceback:\n"
     ]
    }
   ],
   "source": [
    "#debugging  function:browser()\n",
    "show=function(a)\n",
    "{\n",
    "    browser()\n",
    "    a+5\n",
    "}\n",
    "display=fuction(b)\n",
    "{\n",
    "    show(\"s\")\n",
    "}"
   ]
  },
  {
   "cell_type": "code",
   "execution_count": 10,
   "id": "2f3f767c",
   "metadata": {},
   "outputs": [],
   "source": [
    "#regular expression\n",
    "words=c(\"Python\",\"Java\",\"Python\",\"C\")\n"
   ]
  },
  {
   "cell_type": "code",
   "execution_count": 12,
   "id": "148ce202",
   "metadata": {},
   "outputs": [
    {
     "data": {
      "text/html": [
       "<ol class=list-inline>\n",
       "\t<li>FALSE</li>\n",
       "\t<li>FALSE</li>\n",
       "\t<li>TRUE</li>\n",
       "\t<li>FALSE</li>\n",
       "</ol>\n"
      ],
      "text/latex": [
       "\\begin{enumerate*}\n",
       "\\item FALSE\n",
       "\\item FALSE\n",
       "\\item TRUE\n",
       "\\item FALSE\n",
       "\\end{enumerate*}\n"
      ],
      "text/markdown": [
       "1. FALSE\n",
       "2. FALSE\n",
       "3. TRUE\n",
       "4. FALSE\n",
       "\n",
       "\n"
      ],
      "text/plain": [
       "[1] FALSE FALSE  TRUE FALSE"
      ]
     },
     "metadata": {},
     "output_type": "display_data"
    }
   ],
   "source": [
    "grepl(pattern=\"Python\",x=words)#"
   ]
  },
  {
   "cell_type": "code",
   "execution_count": 13,
   "id": "5f37c870",
   "metadata": {},
   "outputs": [
    {
     "data": {
      "text/html": [
       "<ol class=list-inline>\n",
       "\t<li>TRUE</li>\n",
       "\t<li>FALSE</li>\n",
       "\t<li>TRUE</li>\n",
       "\t<li>FALSE</li>\n",
       "</ol>\n"
      ],
      "text/latex": [
       "\\begin{enumerate*}\n",
       "\\item TRUE\n",
       "\\item FALSE\n",
       "\\item TRUE\n",
       "\\item FALSE\n",
       "\\end{enumerate*}\n"
      ],
      "text/markdown": [
       "1. TRUE\n",
       "2. FALSE\n",
       "3. TRUE\n",
       "4. FALSE\n",
       "\n",
       "\n"
      ],
      "text/plain": [
       "[1]  TRUE FALSE  TRUE FALSE"
      ]
     },
     "metadata": {},
     "output_type": "display_data"
    }
   ],
   "source": [
    "grepl(pattern=\"Python\",x=words,ignore.case= TRUE)#Search for string there or not "
   ]
  },
  {
   "cell_type": "code",
   "execution_count": 17,
   "id": "dcc5d0ac",
   "metadata": {},
   "outputs": [
    {
     "data": {
      "text/html": [
       "<ol class=list-inline>\n",
       "\t<li>1</li>\n",
       "\t<li>3</li>\n",
       "</ol>\n"
      ],
      "text/latex": [
       "\\begin{enumerate*}\n",
       "\\item 1\n",
       "\\item 3\n",
       "\\end{enumerate*}\n"
      ],
      "text/markdown": [
       "1. 1\n",
       "2. 3\n",
       "\n",
       "\n"
      ],
      "text/plain": [
       "[1] 1 3"
      ]
     },
     "metadata": {},
     "output_type": "display_data"
    }
   ],
   "source": [
    "grep(\"Python\",words,ignore.case = TRUE)#serch fr string position"
   ]
  },
  {
   "cell_type": "code",
   "execution_count": null,
   "id": "9d8681f5",
   "metadata": {},
   "outputs": [],
   "source": [
    "Install.packages(\"stringr\")"
   ]
  },
  {
   "cell_type": "code",
   "execution_count": 28,
   "id": "15471775",
   "metadata": {},
   "outputs": [
    {
     "data": {
      "text/html": [
       "<ol>\n",
       "\t<li>'9597798700'</li>\n",
       "</ol>\n"
      ],
      "text/latex": [
       "\\begin{enumerate}\n",
       "\\item '9597798700'\n",
       "\\end{enumerate}\n"
      ],
      "text/markdown": [
       "1. '9597798700'\n",
       "\n",
       "\n"
      ],
      "text/plain": [
       "[[1]]\n",
       "[1] \"9597798700\"\n"
      ]
     },
     "metadata": {},
     "output_type": "display_data"
    },
    {
     "name": "stdout",
     "output_type": "stream",
     "text": [
      "[1] \"the date is:  02-11-2020\"\n",
      "[1] \"the email is:  sivanesenthil1250@gmail.com\"\n"
     ]
    }
   ],
   "source": [
    "#extracting mail id ,phno.,date\n",
    "library(stringr)\n",
    "x=c(\"My name is sivane and my num is 9597798700 with emai id of sivanesenthil1250@gmail.com and my session starts on 02-11-2020\")\n",
    "str_extract_all(x,\"[6-9]{1}[0-9]{9}\")#(extraction  of phno. )\n",
    "a=str_extract_all(x,\"[:digit:]{2}-[:digit:]{2}-[:digit:]{4}\")#maches the digits(extraction  of date. )\n",
    "print(paste(\"the date is: \",a))\n",
    "b=str_extract_all(x,\"[\\\\w]+@[\\\\w]+.[\\\\w]+\")#//w for word(extraction  of mail id )\n",
    "print(paste(\"the email is: \",b))"
   ]
  },
  {
   "cell_type": "code",
   "execution_count": 29,
   "id": "aeef6f09",
   "metadata": {},
   "outputs": [
    {
     "data": {
      "text/html": [
       "<ol>\n",
       "\t<li>'12 abc'</li>\n",
       "</ol>\n"
      ],
      "text/latex": [
       "\\begin{enumerate}\n",
       "\\item '12 abc'\n",
       "\\end{enumerate}\n"
      ],
      "text/markdown": [
       "1. '12 abc'\n",
       "\n",
       "\n"
      ],
      "text/plain": [
       "[[1]]\n",
       "[1] \"12 abc\"\n"
      ]
     },
     "metadata": {},
     "output_type": "display_data"
    }
   ],
   "source": [
    "library(stringr)\n",
    "a=list(\"12 abc is my address 123 is ward number\" )\n",
    "str_extract_all(a,\"\\\\b\\\\d{2}\\\\b\\\\s[\\\\w]+\")\n"
   ]
  },
  {
   "cell_type": "code",
   "execution_count": 31,
   "id": "ca2c9484",
   "metadata": {},
   "outputs": [
    {
     "data": {
      "text/html": [
       "<ol>\n",
       "\t<li>'clue'</li>\n",
       "</ol>\n"
      ],
      "text/latex": [
       "\\begin{enumerate}\n",
       "\\item 'clue'\n",
       "\\end{enumerate}\n"
      ],
      "text/markdown": [
       "1. 'clue'\n",
       "\n",
       "\n"
      ],
      "text/plain": [
       "[[1]]\n",
       "[1] \"clue\"\n"
      ]
     },
     "metadata": {},
     "output_type": "display_data"
    }
   ],
   "source": [
    "#starts with c and ends with e\n",
    "library(stringr)\n",
    "a=list(\"12 abc is my address 123 is ward number.there is no clue\" )\n",
    "str_extract_all(a,\"c[\\\\w]+e\")\n"
   ]
  },
  {
   "cell_type": "code",
   "execution_count": 36,
   "id": "a3b1d174",
   "metadata": {},
   "outputs": [
    {
     "data": {
      "text/html": [
       "'R language is a collaborative project with many contributors- R and R is high level '"
      ],
      "text/latex": [
       "'R language is a collaborative project with many contributors- R and R is high level '"
      ],
      "text/markdown": [
       "'R language is a collaborative project with many contributors- R and R is high level '"
      ],
      "text/plain": [
       "[1] \"R language is a collaborative project with many contributors- R and R is high level \""
      ]
     },
     "metadata": {},
     "output_type": "display_data"
    }
   ],
   "source": [
    "#a input vector\n",
    "df<-\"R is a collaborative project with many contributors- R and R is high level \"\n",
    "#replaces\n",
    "sub('R','R language',df)"
   ]
  },
  {
   "cell_type": "code",
   "execution_count": 34,
   "id": "7420e543",
   "metadata": {},
   "outputs": [
    {
     "data": {
      "text/html": [
       "'python is a collaborative project with many contributors- R language and R language is high level '"
      ],
      "text/latex": [
       "'python is a collaborative project with many contributors- R language and R language is high level '"
      ],
      "text/markdown": [
       "'python is a collaborative project with many contributors- R language and R language is high level '"
      ],
      "text/plain": [
       "[1] \"python is a collaborative project with many contributors- R language and R language is high level \""
      ]
     },
     "metadata": {},
     "output_type": "display_data"
    }
   ],
   "source": [
    "#replaces all the string\n",
    "gsub('R','R language',df)"
   ]
  },
  {
   "cell_type": "code",
   "execution_count": 38,
   "id": "7cbc19cf",
   "metadata": {},
   "outputs": [
    {
     "data": {
      "text/html": [
       "<ol class=list-inline>\n",
       "\t<li>'BAC'</li>\n",
       "\t<li>'SIVANE'</li>\n",
       "</ol>\n"
      ],
      "text/latex": [
       "\\begin{enumerate*}\n",
       "\\item 'BAC'\n",
       "\\item 'SIVANE'\n",
       "\\end{enumerate*}\n"
      ],
      "text/markdown": [
       "1. 'BAC'\n",
       "2. 'SIVANE'\n",
       "\n",
       "\n"
      ],
      "text/plain": [
       "[1] \"BAC\"    \"SIVANE\""
      ]
     },
     "metadata": {},
     "output_type": "display_data"
    }
   ],
   "source": [
    "#print a word which contains vowels a,e,i,o,u and A,E,,I,O,U\n",
    "s=c(\"PQJ\",\"BAC\",\"SIVANE\")\n",
    "grep(pattern=\"[aeiouAEIOU]\",s,value= TRUE)"
   ]
  },
  {
   "cell_type": "code",
   "execution_count": 41,
   "id": "13f4b444",
   "metadata": {},
   "outputs": [
    {
     "data": {
      "text/html": [
       "<ol>\n",
       "\t<li></li>\n",
       "</ol>\n"
      ],
      "text/latex": [
       "\\begin{enumerate}\n",
       "\\item \n",
       "\\end{enumerate}\n"
      ],
      "text/markdown": [
       "1. \n",
       "\n",
       "\n"
      ],
      "text/plain": [
       "[[1]]\n",
       "character(0)\n"
      ]
     },
     "metadata": {},
     "output_type": "display_data"
    }
   ],
   "source": [
    "#credit card validation\n",
    "library(stringr)\n",
    "a=list(\"credit card:3145 5926 5358 9793\" )\n",
    "str_extract_all(a,\"\")\n"
   ]
  },
  {
   "cell_type": "code",
   "execution_count": null,
   "id": "33d9cccc",
   "metadata": {},
   "outputs": [],
   "source": []
  }
 ],
 "metadata": {
  "kernelspec": {
   "display_name": "R",
   "language": "R",
   "name": "ir"
  },
  "language_info": {
   "codemirror_mode": "r",
   "file_extension": ".r",
   "mimetype": "text/x-r-source",
   "name": "R",
   "pygments_lexer": "r",
   "version": "3.6.1"
  }
 },
 "nbformat": 4,
 "nbformat_minor": 5
}
