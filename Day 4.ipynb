{
 "cells": [
  {
   "cell_type": "code",
   "execution_count": 1,
   "id": "add7d640",
   "metadata": {},
   "outputs": [
    {
     "name": "stdout",
     "output_type": "stream",
     "text": [
      "[1] 1\n",
      "[1] 2\n",
      "[1] 3\n",
      "[1] 4\n",
      "[1] 5\n"
     ]
    }
   ],
   "source": [
    "#repeat loop\n",
    "res=1\n",
    "i=1\n",
    "repeat\n",
    "    {\n",
    "    print(res)\n",
    "    i=i+1#increment\n",
    "    res=res+1\n",
    "\n",
    "if(i>5)#condition\n",
    "    {\n",
    "    break\n",
    "}\n",
    "}"
   ]
  },
  {
   "cell_type": "code",
   "execution_count": 2,
   "id": "f7bc744f",
   "metadata": {},
   "outputs": [
    {
     "name": "stdout",
     "output_type": "stream",
     "text": [
      "which case:1\n"
     ]
    },
    {
     "data": {
      "text/html": [
       "'add'"
      ],
      "text/latex": [
       "'add'"
      ],
      "text/markdown": [
       "'add'"
      ],
      "text/plain": [
       "[1] \"add\""
      ]
     },
     "metadata": {},
     "output_type": "display_data"
    }
   ],
   "source": [
    "#swicth case\n",
    "case=as.integer(readline(\"which case:\"))\n",
    "switch(case,\"add\",\"sub\",\"mult\")"
   ]
  },
  {
   "cell_type": "code",
   "execution_count": 3,
   "id": "55d12b90",
   "metadata": {},
   "outputs": [
    {
     "data": {
      "text/html": [
       "'sub'"
      ],
      "text/latex": [
       "'sub'"
      ],
      "text/markdown": [
       "'sub'"
      ],
      "text/plain": [
       "[1] \"sub\""
      ]
     },
     "metadata": {},
     "output_type": "display_data"
    }
   ],
   "source": [
    "#swich case without getting from user\n",
    "switch(2,\"add\",\"sub\",\"mul\")"
   ]
  },
  {
   "cell_type": "code",
   "execution_count": 4,
   "id": "7016c7bd",
   "metadata": {},
   "outputs": [
    {
     "data": {
      "text/html": [
       "'black'"
      ],
      "text/latex": [
       "'black'"
      ],
      "text/markdown": [
       "'black'"
      ],
      "text/plain": [
       "[1] \"black\""
      ]
     },
     "metadata": {},
     "output_type": "display_data"
    }
   ],
   "source": [
    "switch(\"color\",name=\"siva\",age=19,dept=\"cse\",color=\"black\")"
   ]
  },
  {
   "cell_type": "code",
   "execution_count": 5,
   "id": "7fe95d80",
   "metadata": {},
   "outputs": [
    {
     "name": "stdout",
     "output_type": "stream",
     "text": [
      "[1] \"siva\"\n"
     ]
    }
   ],
   "source": [
    "#function \n",
    "a=function(name)\n",
    "    {\n",
    "    print(name)\n",
    "}\n",
    "a(\"siva\")"
   ]
  },
  {
   "cell_type": "code",
   "execution_count": 28,
   "id": "0b927200",
   "metadata": {},
   "outputs": [
    {
     "name": "stdout",
     "output_type": "stream",
     "text": [
      "[1] \"name siva\"\n",
      "[1] \"dept it\"\n"
     ]
    }
   ],
   "source": [
    "#required arugument\n",
    "a=function(name,dept)\n",
    "    {\n",
    "    print(paste(\"name\",name))\n",
    "     print(paste(\"dept\",dept))\n",
    "}\n",
    "a(\"siva\")#hav to pass two arguments "
   ]
  },
  {
   "cell_type": "code",
   "execution_count": 27,
   "id": "719037bd",
   "metadata": {},
   "outputs": [
    {
     "name": "stdout",
     "output_type": "stream",
     "text": [
      "[1] \"name siva\"\n",
      "[1] \"dept cse\"\n"
     ]
    }
   ],
   "source": [
    "\n",
    "#default argument\n",
    "b=function(name,dept=\"cse\")\n",
    "    {\n",
    "    print(paste(\"name\",name))\n",
    "     print(paste(\"dept\",dept))\n",
    "}\n",
    "b(\"siva\")"
   ]
  },
  {
   "cell_type": "code",
   "execution_count": 16,
   "id": "0a88d7c0",
   "metadata": {},
   "outputs": [
    {
     "name": "stdout",
     "output_type": "stream",
     "text": [
      "[1] \"name: siva\"\n",
      "[1] \"dept: cse\"\n"
     ]
    }
   ],
   "source": [
    "#keyword argument\n",
    "c=function(name,dept)\n",
    "    {\n",
    "    print(paste(\"name:\",name))\n",
    "     print(paste(\"dept:\",dept))\n",
    "}\n",
    "c(name=\"siva\",dept=\"cse\" )"
   ]
  },
  {
   "cell_type": "code",
   "execution_count": 20,
   "id": "01414d51",
   "metadata": {},
   "outputs": [
    {
     "name": "stdout",
     "output_type": "stream",
     "text": [
      "[1] \"name: siva\"\n",
      "[1] \"dept: it\"\n",
      "[1] \"age: 18\"\n",
      "[1] \"name: hiba\"\n",
      "[1] \"dept: cse\"\n",
      "[1] \"age: 19\"\n"
     ]
    }
   ],
   "source": [
    "#default argument\n",
    "d=function(name,dept=\"cse\",age=19)\n",
    "    {\n",
    "    print(paste(\"name:\",name))\n",
    "     print(paste(\"dept:\",dept))\n",
    "     print(paste(\"age:\",age))\n",
    "}\n",
    "d(\"siva\",\"it\",18)\n",
    "d(\"hiba\")#default data fills the once which didnt hav an argument"
   ]
  },
  {
   "cell_type": "code",
   "execution_count": 21,
   "id": "ae04dcd0",
   "metadata": {},
   "outputs": [
    {
     "name": "stdout",
     "output_type": "stream",
     "text": [
      "[1] \"select operator\"\n",
      "[1] \"1.add\"\n",
      "[1] \"2.sub\"\n",
      "[1] \"3.mul\"\n",
      "[1] \"4.div\"\n",
      "enter choice[1/2/3/4]1\n",
      "enter first num:4\n",
      "enter second num:5\n",
      "[1] \"4 + 5 = 9\"\n"
     ]
    }
   ],
   "source": [
    "#simple calculator\n",
    "add=function(x,y)\n",
    "    {\n",
    "    return(x+y)\n",
    "}\n",
    "sub=function(x,y)\n",
    "    {\n",
    "    return(x-y)\n",
    "}\n",
    "mul=function(x,y)\n",
    "    {\n",
    "    return(x*y)\n",
    "}\n",
    "div=function(x,y)\n",
    "    {\n",
    "    return(x/y)\n",
    "}\n",
    "#take input from the user\n",
    "print(\"select operator\")\n",
    "print(\"1.add\")\n",
    "print(\"2.sub\")\n",
    "print(\"3.mul\")\n",
    "print(\"4.div\")\n",
    "choice=as.integer(readline(\"enter choice[1/2/3/4]\"))\n",
    "num1=as.integer(readline(\"enter first num:\"))\n",
    "num2=as.integer(readline(\"enter second num:\"))\n",
    "operator<-switch(choice,\"+\",\"-\",\"*\",\"/\")\n",
    "result<-switch(choice,add(num1,num2),sub(num1,num2),mul(num1,num2),div(num1,num2))\n",
    "print(paste(num1,operator,num2,\"=\",result))"
   ]
  },
  {
   "cell_type": "code",
   "execution_count": 22,
   "id": "e4bef1f4",
   "metadata": {},
   "outputs": [
    {
     "data": {
      "text/html": [
       "<ol class=list-inline>\n",
       "\t<li>0.0317109229380848</li>\n",
       "\t<li>0.155013727560675</li>\n",
       "\t<li>0.271944381919186</li>\n",
       "\t<li>-0.504050153927916</li>\n",
       "\t<li>-0.342165488198402</li>\n",
       "</ol>\n"
      ],
      "text/latex": [
       "\\begin{enumerate*}\n",
       "\\item 0.0317109229380848\n",
       "\\item 0.155013727560675\n",
       "\\item 0.271944381919186\n",
       "\\item -0.504050153927916\n",
       "\\item -0.342165488198402\n",
       "\\end{enumerate*}\n"
      ],
      "text/markdown": [
       "1. 0.0317109229380848\n",
       "2. 0.155013727560675\n",
       "3. 0.271944381919186\n",
       "4. -0.504050153927916\n",
       "5. -0.342165488198402\n",
       "\n",
       "\n"
      ],
      "text/plain": [
       "[1]  0.03171092  0.15501373  0.27194438 -0.50405015 -0.34216549"
      ]
     },
     "metadata": {},
     "output_type": "display_data"
    }
   ],
   "source": [
    "#normal distribution\n",
    "rnorm(5)"
   ]
  },
  {
   "cell_type": "code",
   "execution_count": 23,
   "id": "8ad59fec",
   "metadata": {},
   "outputs": [
    {
     "data": {
      "text/html": [
       "<ol class=list-inline>\n",
       "\t<li>3.59921762953416</li>\n",
       "\t<li>5.9464950009392</li>\n",
       "</ol>\n"
      ],
      "text/latex": [
       "\\begin{enumerate*}\n",
       "\\item 3.59921762953416\n",
       "\\item 5.9464950009392\n",
       "\\end{enumerate*}\n"
      ],
      "text/markdown": [
       "1. 3.59921762953416\n",
       "2. 5.9464950009392\n",
       "\n",
       "\n"
      ],
      "text/plain": [
       "[1] 3.599218 5.946495"
      ]
     },
     "metadata": {},
     "output_type": "display_data"
    }
   ],
   "source": [
    "rnorm(2,mean=5,sd=2)#adding mean values"
   ]
  },
  {
   "cell_type": "code",
   "execution_count": 24,
   "id": "87c00088",
   "metadata": {},
   "outputs": [
    {
     "data": {
      "text/html": [
       "<ol class=list-inline>\n",
       "\t<li>0.920341702178121</li>\n",
       "\t<li>0.292268018936738</li>\n",
       "\t<li>0.905695218360052</li>\n",
       "\t<li>0.545574202667922</li>\n",
       "\t<li>0.383102828636765</li>\n",
       "\t<li>0.17842177208513</li>\n",
       "\t<li>0.686504794983193</li>\n",
       "\t<li>0.476352296769619</li>\n",
       "\t<li>0.17038890812546</li>\n",
       "\t<li>0.486492931609973</li>\n",
       "</ol>\n"
      ],
      "text/latex": [
       "\\begin{enumerate*}\n",
       "\\item 0.920341702178121\n",
       "\\item 0.292268018936738\n",
       "\\item 0.905695218360052\n",
       "\\item 0.545574202667922\n",
       "\\item 0.383102828636765\n",
       "\\item 0.17842177208513\n",
       "\\item 0.686504794983193\n",
       "\\item 0.476352296769619\n",
       "\\item 0.17038890812546\n",
       "\\item 0.486492931609973\n",
       "\\end{enumerate*}\n"
      ],
      "text/markdown": [
       "1. 0.920341702178121\n",
       "2. 0.292268018936738\n",
       "3. 0.905695218360052\n",
       "4. 0.545574202667922\n",
       "5. 0.383102828636765\n",
       "6. 0.17842177208513\n",
       "7. 0.686504794983193\n",
       "8. 0.476352296769619\n",
       "9. 0.17038890812546\n",
       "10. 0.486492931609973\n",
       "\n",
       "\n"
      ],
      "text/plain": [
       " [1] 0.9203417 0.2922680 0.9056952 0.5455742 0.3831028 0.1784218 0.6865048\n",
       " [8] 0.4763523 0.1703889 0.4864929"
      ]
     },
     "metadata": {},
     "output_type": "display_data"
    }
   ],
   "source": [
    "#uniform distribution\n",
    "runif(10)"
   ]
  },
  {
   "cell_type": "code",
   "execution_count": 25,
   "id": "c24025f5",
   "metadata": {},
   "outputs": [
    {
     "data": {
      "text/html": [
       "<ol class=list-inline>\n",
       "\t<li>79.6093482407741</li>\n",
       "\t<li>54.8620978067629</li>\n",
       "\t<li>13.4768297802657</li>\n",
       "</ol>\n"
      ],
      "text/latex": [
       "\\begin{enumerate*}\n",
       "\\item 79.6093482407741\n",
       "\\item 54.8620978067629\n",
       "\\item 13.4768297802657\n",
       "\\end{enumerate*}\n"
      ],
      "text/markdown": [
       "1. 79.6093482407741\n",
       "2. 54.8620978067629\n",
       "3. 13.4768297802657\n",
       "\n",
       "\n"
      ],
      "text/plain": [
       "[1] 79.60935 54.86210 13.47683"
      ]
     },
     "metadata": {},
     "output_type": "display_data"
    }
   ],
   "source": [
    "set.seed(101)#to log the generated number\n",
    "runif(3,min=10,max=100)"
   ]
  },
  {
   "cell_type": "code",
   "execution_count": null,
   "id": "06abbee3",
   "metadata": {},
   "outputs": [],
   "source": []
  }
 ],
 "metadata": {
  "kernelspec": {
   "display_name": "R",
   "language": "R",
   "name": "ir"
  },
  "language_info": {
   "codemirror_mode": "r",
   "file_extension": ".r",
   "mimetype": "text/x-r-source",
   "name": "R",
   "pygments_lexer": "r",
   "version": "3.6.1"
  }
 },
 "nbformat": 4,
 "nbformat_minor": 5
}
