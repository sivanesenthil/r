{
 "cells": [
  {
   "cell_type": "code",
   "execution_count": 2,
   "id": "f9de050c",
   "metadata": {},
   "outputs": [
    {
     "name": "stdout",
     "output_type": "stream",
     "text": [
      "Enter a number:L3\n"
     ]
    },
    {
     "data": {
      "text/html": [
       "6"
      ],
      "text/latex": [
       "6"
      ],
      "text/markdown": [
       "6"
      ],
      "text/plain": [
       "[1] 6"
      ]
     },
     "metadata": {},
     "output_type": "display_data"
    }
   ],
   "source": [
    "#sum of n numbers\n",
    "fact=function(num){\n",
    "    if(num==1){\n",
    "        return(1)\n",
    "    }else{\n",
    "        return(num*fact(num-1))\n",
    "    }\n",
    "}\n",
    "n=as.integer(readline(\"Enter a number:L\"))\n",
    "fact(n)"
   ]
  },
  {
   "cell_type": "code",
   "execution_count": 4,
   "id": "b0494924",
   "metadata": {},
   "outputs": [
    {
     "data": {
      "text/html": [
       "<ol class=list-inline>\n",
       "\t<li>'data science'</li>\n",
       "\t<li>'java'</li>\n",
       "\t<li>'python'</li>\n",
       "</ol>\n"
      ],
      "text/latex": [
       "\\begin{enumerate*}\n",
       "\\item 'data science'\n",
       "\\item 'java'\n",
       "\\item 'python'\n",
       "\\end{enumerate*}\n"
      ],
      "text/markdown": [
       "1. 'data science'\n",
       "2. 'java'\n",
       "3. 'python'\n",
       "\n",
       "\n"
      ],
      "text/plain": [
       "[1] \"data science\" \"java\"         \"python\"      "
      ]
     },
     "metadata": {},
     "output_type": "display_data"
    }
   ],
   "source": [
    "#get the term one subject and print the result in sorted order \n",
    "n=c('python','data science','java')\n",
    "sort(n)"
   ]
  },
  {
   "cell_type": "code",
   "execution_count": 6,
   "id": "4f259000",
   "metadata": {},
   "outputs": [
    {
     "name": "stdout",
     "output_type": "stream",
     "text": [
      "enter the name:siva\n",
      "enter the id:27\n",
      "enter the dep:cs\n",
      "[1] \"name: siva uniqueId: 27 dept: cs\"\n"
     ]
    }
   ],
   "source": [
    "#default argument\n",
    "elective=function(name,uniqueId,dept=\"ds\"){\n",
    "   print(paste(\"name:\",name,\"uniqueId:\",uniqueId,\"dept:\",dept)) \n",
    "}\n",
    "name=readline(\"enter the name:\")\n",
    "uniqueId=readline(\"enter the id:\")\n",
    "dept=readline(\"enter the dep:\")\n",
    "if(dept==\"\"){\n",
    "    elective(name,uniqueId)\n",
    "}else{\n",
    "    elective(name,uniqueId,dept)\n",
    "}"
   ]
  },
  {
   "cell_type": "code",
   "execution_count": 1,
   "id": "6d7db25d",
   "metadata": {},
   "outputs": [
    {
     "name": "stdout",
     "output_type": "stream",
     "text": [
      "enter the credit card num:2345678\n",
      "[1] \"invalid\"\n"
     ]
    }
   ],
   "source": [
    "#regular expression\n",
    "n=as.integer(readline(\"enter the credit card num:\"))\n",
    "if(n=='%4')\n",
    "    {\n",
    "    print('valid')\n",
    "}else if(n == '%5')\n",
    "    {\n",
    "    print('valid')\n",
    "}else if(n == '%7')\n",
    "    {\n",
    "    print('valid')\n",
    "}else{\n",
    "    print('invalid')\n",
    "}"
   ]
  },
  {
   "cell_type": "code",
   "execution_count": 2,
   "id": "4abba739",
   "metadata": {},
   "outputs": [
    {
     "ename": "ERROR",
     "evalue": "Error in str_extract_all(rndmTEXT, pattern): could not find function \"str_extract_all\"\n",
     "output_type": "error",
     "traceback": [
      "Error in str_extract_all(rndmTEXT, pattern): could not find function \"str_extract_all\"\nTraceback:\n"
     ]
    }
   ],
   "source": [
    "pattern =\"[4,7,9]{1}\\\\d{3}\\\\s\\\\d{4}\\\\s[1-9]{4}\"\n",
    "rndmTEXT=\"this is my cc 4123 5678  9098 8789\"\n",
    "str_extract_all(rndmTEXT,pattern)"
   ]
  },
  {
   "cell_type": "code",
   "execution_count": 3,
   "id": "0786b616",
   "metadata": {},
   "outputs": [
    {
     "data": {
      "text/html": [
       "'i hav 6 banana'"
      ],
      "text/latex": [
       "'i hav 6 banana'"
      ],
      "text/markdown": [
       "'i hav 6 banana'"
      ],
      "text/plain": [
       "[1] \"i hav 6 banana\""
      ]
     },
     "metadata": {},
     "output_type": "display_data"
    }
   ],
   "source": [
    "words<-\"i hav six banana\"\n",
    "sub(\"six\",6,words)"
   ]
  },
  {
   "cell_type": "code",
   "execution_count": 4,
   "id": "a22cfdb2",
   "metadata": {},
   "outputs": [],
   "source": [
    "df=read.csv(\"employee.csv\")"
   ]
  },
  {
   "cell_type": "code",
   "execution_count": 5,
   "id": "1efa9866",
   "metadata": {},
   "outputs": [
    {
     "data": {
      "text/html": [
       "10"
      ],
      "text/latex": [
       "10"
      ],
      "text/markdown": [
       "10"
      ],
      "text/plain": [
       "[1] 10"
      ]
     },
     "metadata": {},
     "output_type": "display_data"
    }
   ],
   "source": [
    "ncol(df)"
   ]
  },
  {
   "cell_type": "code",
   "execution_count": 6,
   "id": "eeb8f0f1",
   "metadata": {},
   "outputs": [
    {
     "data": {
      "text/html": [
       "50"
      ],
      "text/latex": [
       "50"
      ],
      "text/markdown": [
       "50"
      ],
      "text/plain": [
       "[1] 50"
      ]
     },
     "metadata": {},
     "output_type": "display_data"
    }
   ],
   "source": [
    "nrow(df)"
   ]
  },
  {
   "cell_type": "code",
   "execution_count": 7,
   "id": "3151bdb9",
   "metadata": {},
   "outputs": [
    {
     "data": {
      "text/html": [
       "<table>\n",
       "<thead><tr><th scope=col>EMPLOYEE_ID</th><th scope=col>FIRST_NAME</th><th scope=col>LAST_NAME</th><th scope=col>EMAIL</th><th scope=col>PHONE_NUMBER</th><th scope=col>HIRE_DATE</th><th scope=col>JOB_ID</th><th scope=col>SALARY</th><th scope=col>MANAGER_ID</th><th scope=col>DEPARTMENT_ID</th></tr></thead>\n",
       "<tbody>\n",
       "\t<tr><td>198         </td><td>Donald      </td><td>OConnell    </td><td>DOCONNEL    </td><td>650.507.9833</td><td>21-Jun-07   </td><td>SH_CLERK    </td><td> 2600       </td><td>124         </td><td> 50         </td></tr>\n",
       "\t<tr><td>199         </td><td>Douglas     </td><td>Grant       </td><td>DGRANT      </td><td>650.507.9844</td><td>13-Jan-08   </td><td>SH_CLERK    </td><td> 2600       </td><td>124         </td><td> 50         </td></tr>\n",
       "\t<tr><td>200         </td><td>Jennifer    </td><td>Whalen      </td><td>JWHALEN     </td><td>515.123.4444</td><td>17-Sep-03   </td><td>AD_ASST     </td><td> 4400       </td><td>101         </td><td> 10         </td></tr>\n",
       "\t<tr><td>201         </td><td>Michael     </td><td>Hartstein   </td><td>MHARTSTE    </td><td>515.123.5555</td><td>17-Feb-04   </td><td>MK_MAN      </td><td>13000       </td><td>100         </td><td> 20         </td></tr>\n",
       "\t<tr><td>202         </td><td>Pat         </td><td>Fay         </td><td>PFAY        </td><td>603.123.6666</td><td>17-Aug-05   </td><td>MK_REP      </td><td> 6000       </td><td>201         </td><td> 20         </td></tr>\n",
       "\t<tr><td>203         </td><td>Susan       </td><td>Mavris      </td><td>SMAVRIS     </td><td>515.123.7777</td><td>07-Jun-02   </td><td>HR_REP      </td><td> 6500       </td><td>101         </td><td> 40         </td></tr>\n",
       "\t<tr><td>204         </td><td>Hermann     </td><td>Baer        </td><td>HBAER       </td><td>515.123.8888</td><td>07-Jun-02   </td><td>PR_REP      </td><td>10000       </td><td>101         </td><td> 70         </td></tr>\n",
       "\t<tr><td>205         </td><td>Shelley     </td><td>Higgins     </td><td>SHIGGINS    </td><td>515.123.8080</td><td>07-Jun-02   </td><td>AC_MGR      </td><td>12008       </td><td>101         </td><td>110         </td></tr>\n",
       "\t<tr><td>206         </td><td>William     </td><td>Gietz       </td><td>WGIETZ      </td><td>515.123.8181</td><td>07-Jun-02   </td><td>AC_ACCOUNT  </td><td> 8300       </td><td>205         </td><td>110         </td></tr>\n",
       "\t<tr><td>100         </td><td>Steven      </td><td>King        </td><td>SKING       </td><td>515.123.4567</td><td>17-Jun-03   </td><td>AD_PRES     </td><td>24000       </td><td> -          </td><td> 90         </td></tr>\n",
       "</tbody>\n",
       "</table>\n"
      ],
      "text/latex": [
       "\\begin{tabular}{r|llllllllll}\n",
       " EMPLOYEE\\_ID & FIRST\\_NAME & LAST\\_NAME & EMAIL & PHONE\\_NUMBER & HIRE\\_DATE & JOB\\_ID & SALARY & MANAGER\\_ID & DEPARTMENT\\_ID\\\\\n",
       "\\hline\n",
       "\t 198          & Donald       & OConnell     & DOCONNEL     & 650.507.9833 & 21-Jun-07    & SH\\_CLERK   &  2600        & 124          &  50         \\\\\n",
       "\t 199          & Douglas      & Grant        & DGRANT       & 650.507.9844 & 13-Jan-08    & SH\\_CLERK   &  2600        & 124          &  50         \\\\\n",
       "\t 200          & Jennifer     & Whalen       & JWHALEN      & 515.123.4444 & 17-Sep-03    & AD\\_ASST    &  4400        & 101          &  10         \\\\\n",
       "\t 201          & Michael      & Hartstein    & MHARTSTE     & 515.123.5555 & 17-Feb-04    & MK\\_MAN     & 13000        & 100          &  20         \\\\\n",
       "\t 202          & Pat          & Fay          & PFAY         & 603.123.6666 & 17-Aug-05    & MK\\_REP     &  6000        & 201          &  20         \\\\\n",
       "\t 203          & Susan        & Mavris       & SMAVRIS      & 515.123.7777 & 07-Jun-02    & HR\\_REP     &  6500        & 101          &  40         \\\\\n",
       "\t 204          & Hermann      & Baer         & HBAER        & 515.123.8888 & 07-Jun-02    & PR\\_REP     & 10000        & 101          &  70         \\\\\n",
       "\t 205          & Shelley      & Higgins      & SHIGGINS     & 515.123.8080 & 07-Jun-02    & AC\\_MGR     & 12008        & 101          & 110         \\\\\n",
       "\t 206          & William      & Gietz        & WGIETZ       & 515.123.8181 & 07-Jun-02    & AC\\_ACCOUNT &  8300        & 205          & 110         \\\\\n",
       "\t 100          & Steven       & King         & SKING        & 515.123.4567 & 17-Jun-03    & AD\\_PRES    & 24000        &  -           &  90         \\\\\n",
       "\\end{tabular}\n"
      ],
      "text/markdown": [
       "\n",
       "| EMPLOYEE_ID | FIRST_NAME | LAST_NAME | EMAIL | PHONE_NUMBER | HIRE_DATE | JOB_ID | SALARY | MANAGER_ID | DEPARTMENT_ID |\n",
       "|---|---|---|---|---|---|---|---|---|---|\n",
       "| 198          | Donald       | OConnell     | DOCONNEL     | 650.507.9833 | 21-Jun-07    | SH_CLERK     |  2600        | 124          |  50          |\n",
       "| 199          | Douglas      | Grant        | DGRANT       | 650.507.9844 | 13-Jan-08    | SH_CLERK     |  2600        | 124          |  50          |\n",
       "| 200          | Jennifer     | Whalen       | JWHALEN      | 515.123.4444 | 17-Sep-03    | AD_ASST      |  4400        | 101          |  10          |\n",
       "| 201          | Michael      | Hartstein    | MHARTSTE     | 515.123.5555 | 17-Feb-04    | MK_MAN       | 13000        | 100          |  20          |\n",
       "| 202          | Pat          | Fay          | PFAY         | 603.123.6666 | 17-Aug-05    | MK_REP       |  6000        | 201          |  20          |\n",
       "| 203          | Susan        | Mavris       | SMAVRIS      | 515.123.7777 | 07-Jun-02    | HR_REP       |  6500        | 101          |  40          |\n",
       "| 204          | Hermann      | Baer         | HBAER        | 515.123.8888 | 07-Jun-02    | PR_REP       | 10000        | 101          |  70          |\n",
       "| 205          | Shelley      | Higgins      | SHIGGINS     | 515.123.8080 | 07-Jun-02    | AC_MGR       | 12008        | 101          | 110          |\n",
       "| 206          | William      | Gietz        | WGIETZ       | 515.123.8181 | 07-Jun-02    | AC_ACCOUNT   |  8300        | 205          | 110          |\n",
       "| 100          | Steven       | King         | SKING        | 515.123.4567 | 17-Jun-03    | AD_PRES      | 24000        |  -           |  90          |\n",
       "\n"
      ],
      "text/plain": [
       "   EMPLOYEE_ID FIRST_NAME LAST_NAME EMAIL    PHONE_NUMBER HIRE_DATE JOB_ID    \n",
       "1  198         Donald     OConnell  DOCONNEL 650.507.9833 21-Jun-07 SH_CLERK  \n",
       "2  199         Douglas    Grant     DGRANT   650.507.9844 13-Jan-08 SH_CLERK  \n",
       "3  200         Jennifer   Whalen    JWHALEN  515.123.4444 17-Sep-03 AD_ASST   \n",
       "4  201         Michael    Hartstein MHARTSTE 515.123.5555 17-Feb-04 MK_MAN    \n",
       "5  202         Pat        Fay       PFAY     603.123.6666 17-Aug-05 MK_REP    \n",
       "6  203         Susan      Mavris    SMAVRIS  515.123.7777 07-Jun-02 HR_REP    \n",
       "7  204         Hermann    Baer      HBAER    515.123.8888 07-Jun-02 PR_REP    \n",
       "8  205         Shelley    Higgins   SHIGGINS 515.123.8080 07-Jun-02 AC_MGR    \n",
       "9  206         William    Gietz     WGIETZ   515.123.8181 07-Jun-02 AC_ACCOUNT\n",
       "10 100         Steven     King      SKING    515.123.4567 17-Jun-03 AD_PRES   \n",
       "   SALARY MANAGER_ID DEPARTMENT_ID\n",
       "1   2600  124         50          \n",
       "2   2600  124         50          \n",
       "3   4400  101         10          \n",
       "4  13000  100         20          \n",
       "5   6000  201         20          \n",
       "6   6500  101         40          \n",
       "7  10000  101         70          \n",
       "8  12008  101        110          \n",
       "9   8300  205        110          \n",
       "10 24000   -          90          "
      ]
     },
     "metadata": {},
     "output_type": "display_data"
    }
   ],
   "source": [
    "head(df,10)"
   ]
  },
  {
   "cell_type": "code",
   "execution_count": 8,
   "id": "f6250b7e",
   "metadata": {},
   "outputs": [
    {
     "data": {
      "text/html": [
       "<table>\n",
       "<thead><tr><th></th><th scope=col>EMPLOYEE_ID</th><th scope=col>FIRST_NAME</th><th scope=col>LAST_NAME</th><th scope=col>EMAIL</th><th scope=col>PHONE_NUMBER</th><th scope=col>HIRE_DATE</th><th scope=col>JOB_ID</th><th scope=col>SALARY</th><th scope=col>MANAGER_ID</th><th scope=col>DEPARTMENT_ID</th></tr></thead>\n",
       "<tbody>\n",
       "\t<tr><th scope=row>45</th><td>135         </td><td>Ki          </td><td>Gee         </td><td>KGEE        </td><td>650.127.1734</td><td>12-Dec-07   </td><td>ST_CLERK    </td><td>2400        </td><td>122         </td><td>50          </td></tr>\n",
       "\t<tr><th scope=row>46</th><td>136         </td><td>Hazel       </td><td>Philtanker  </td><td>HPHILTAN    </td><td>650.127.1634</td><td>06-Feb-08   </td><td>ST_CLERK    </td><td>2200        </td><td>122         </td><td>50          </td></tr>\n",
       "\t<tr><th scope=row>47</th><td>137         </td><td>Renske      </td><td>Ladwig      </td><td>RLADWIG     </td><td>650.121.1234</td><td>14-Jul-03   </td><td>ST_CLERK    </td><td>3600        </td><td>123         </td><td>50          </td></tr>\n",
       "\t<tr><th scope=row>48</th><td>138         </td><td>Stephen     </td><td>Stiles      </td><td>SSTILES     </td><td>650.121.2034</td><td>26-Oct-05   </td><td>ST_CLERK    </td><td>3200        </td><td>123         </td><td>50          </td></tr>\n",
       "\t<tr><th scope=row>49</th><td>139         </td><td>John        </td><td>Seo         </td><td>JSEO        </td><td>650.121.2019</td><td>12-Feb-06   </td><td>ST_CLERK    </td><td>2700        </td><td>123         </td><td>50          </td></tr>\n",
       "\t<tr><th scope=row>50</th><td>140         </td><td>Joshua      </td><td>Patel       </td><td>JPATEL      </td><td>650.121.1834</td><td>06-Apr-06   </td><td>ST_CLERK    </td><td>2500        </td><td>123         </td><td>50          </td></tr>\n",
       "</tbody>\n",
       "</table>\n"
      ],
      "text/latex": [
       "\\begin{tabular}{r|llllllllll}\n",
       "  & EMPLOYEE\\_ID & FIRST\\_NAME & LAST\\_NAME & EMAIL & PHONE\\_NUMBER & HIRE\\_DATE & JOB\\_ID & SALARY & MANAGER\\_ID & DEPARTMENT\\_ID\\\\\n",
       "\\hline\n",
       "\t45 & 135          & Ki           & Gee          & KGEE         & 650.127.1734 & 12-Dec-07    & ST\\_CLERK   & 2400         & 122          & 50          \\\\\n",
       "\t46 & 136          & Hazel        & Philtanker   & HPHILTAN     & 650.127.1634 & 06-Feb-08    & ST\\_CLERK   & 2200         & 122          & 50          \\\\\n",
       "\t47 & 137          & Renske       & Ladwig       & RLADWIG      & 650.121.1234 & 14-Jul-03    & ST\\_CLERK   & 3600         & 123          & 50          \\\\\n",
       "\t48 & 138          & Stephen      & Stiles       & SSTILES      & 650.121.2034 & 26-Oct-05    & ST\\_CLERK   & 3200         & 123          & 50          \\\\\n",
       "\t49 & 139          & John         & Seo          & JSEO         & 650.121.2019 & 12-Feb-06    & ST\\_CLERK   & 2700         & 123          & 50          \\\\\n",
       "\t50 & 140          & Joshua       & Patel        & JPATEL       & 650.121.1834 & 06-Apr-06    & ST\\_CLERK   & 2500         & 123          & 50          \\\\\n",
       "\\end{tabular}\n"
      ],
      "text/markdown": [
       "\n",
       "| <!--/--> | EMPLOYEE_ID | FIRST_NAME | LAST_NAME | EMAIL | PHONE_NUMBER | HIRE_DATE | JOB_ID | SALARY | MANAGER_ID | DEPARTMENT_ID |\n",
       "|---|---|---|---|---|---|---|---|---|---|---|\n",
       "| 45 | 135          | Ki           | Gee          | KGEE         | 650.127.1734 | 12-Dec-07    | ST_CLERK     | 2400         | 122          | 50           |\n",
       "| 46 | 136          | Hazel        | Philtanker   | HPHILTAN     | 650.127.1634 | 06-Feb-08    | ST_CLERK     | 2200         | 122          | 50           |\n",
       "| 47 | 137          | Renske       | Ladwig       | RLADWIG      | 650.121.1234 | 14-Jul-03    | ST_CLERK     | 3600         | 123          | 50           |\n",
       "| 48 | 138          | Stephen      | Stiles       | SSTILES      | 650.121.2034 | 26-Oct-05    | ST_CLERK     | 3200         | 123          | 50           |\n",
       "| 49 | 139          | John         | Seo          | JSEO         | 650.121.2019 | 12-Feb-06    | ST_CLERK     | 2700         | 123          | 50           |\n",
       "| 50 | 140          | Joshua       | Patel        | JPATEL       | 650.121.1834 | 06-Apr-06    | ST_CLERK     | 2500         | 123          | 50           |\n",
       "\n"
      ],
      "text/plain": [
       "   EMPLOYEE_ID FIRST_NAME LAST_NAME  EMAIL    PHONE_NUMBER HIRE_DATE JOB_ID  \n",
       "45 135         Ki         Gee        KGEE     650.127.1734 12-Dec-07 ST_CLERK\n",
       "46 136         Hazel      Philtanker HPHILTAN 650.127.1634 06-Feb-08 ST_CLERK\n",
       "47 137         Renske     Ladwig     RLADWIG  650.121.1234 14-Jul-03 ST_CLERK\n",
       "48 138         Stephen    Stiles     SSTILES  650.121.2034 26-Oct-05 ST_CLERK\n",
       "49 139         John       Seo        JSEO     650.121.2019 12-Feb-06 ST_CLERK\n",
       "50 140         Joshua     Patel      JPATEL   650.121.1834 06-Apr-06 ST_CLERK\n",
       "   SALARY MANAGER_ID DEPARTMENT_ID\n",
       "45 2400   122        50           \n",
       "46 2200   122        50           \n",
       "47 3600   123        50           \n",
       "48 3200   123        50           \n",
       "49 2700   123        50           \n",
       "50 2500   123        50           "
      ]
     },
     "metadata": {},
     "output_type": "display_data"
    }
   ],
   "source": [
    "tail(df)"
   ]
  },
  {
   "cell_type": "code",
   "execution_count": 9,
   "id": "0022ca79",
   "metadata": {},
   "outputs": [
    {
     "data": {
      "text/html": [
       "24000"
      ],
      "text/latex": [
       "24000"
      ],
      "text/markdown": [
       "24000"
      ],
      "text/plain": [
       "[1] 24000"
      ]
     },
     "metadata": {},
     "output_type": "display_data"
    }
   ],
   "source": [
    "max(df$SALARY)"
   ]
  },
  {
   "cell_type": "code",
   "execution_count": 10,
   "id": "8c96a628",
   "metadata": {},
   "outputs": [
    {
     "data": {
      "text/html": [
       "2100"
      ],
      "text/latex": [
       "2100"
      ],
      "text/markdown": [
       "2100"
      ],
      "text/plain": [
       "[1] 2100"
      ]
     },
     "metadata": {},
     "output_type": "display_data"
    }
   ],
   "source": [
    "min(df$SALARY)"
   ]
  },
  {
   "cell_type": "code",
   "execution_count": 12,
   "id": "d9ec7de9",
   "metadata": {},
   "outputs": [
    {
     "data": {
      "text/html": [
       "<table>\n",
       "<thead><tr><th></th><th scope=col>EMPLOYEE_ID</th><th scope=col>FIRST_NAME</th><th scope=col>LAST_NAME</th><th scope=col>EMAIL</th><th scope=col>PHONE_NUMBER</th><th scope=col>HIRE_DATE</th><th scope=col>JOB_ID</th><th scope=col>SALARY</th><th scope=col>MANAGER_ID</th><th scope=col>DEPARTMENT_ID</th></tr></thead>\n",
       "<tbody>\n",
       "\t<tr><th scope=row>10</th><td>100         </td><td>Steven      </td><td>King        </td><td>SKING       </td><td>515.123.4567</td><td>17-Jun-03   </td><td>AD_PRES     </td><td>24000       </td><td> -          </td><td>90          </td></tr>\n",
       "</tbody>\n",
       "</table>\n"
      ],
      "text/latex": [
       "\\begin{tabular}{r|llllllllll}\n",
       "  & EMPLOYEE\\_ID & FIRST\\_NAME & LAST\\_NAME & EMAIL & PHONE\\_NUMBER & HIRE\\_DATE & JOB\\_ID & SALARY & MANAGER\\_ID & DEPARTMENT\\_ID\\\\\n",
       "\\hline\n",
       "\t10 & 100          & Steven       & King         & SKING        & 515.123.4567 & 17-Jun-03    & AD\\_PRES    & 24000        &  -           & 90          \\\\\n",
       "\\end{tabular}\n"
      ],
      "text/markdown": [
       "\n",
       "| <!--/--> | EMPLOYEE_ID | FIRST_NAME | LAST_NAME | EMAIL | PHONE_NUMBER | HIRE_DATE | JOB_ID | SALARY | MANAGER_ID | DEPARTMENT_ID |\n",
       "|---|---|---|---|---|---|---|---|---|---|---|\n",
       "| 10 | 100          | Steven       | King         | SKING        | 515.123.4567 | 17-Jun-03    | AD_PRES      | 24000        |  -           | 90           |\n",
       "\n"
      ],
      "text/plain": [
       "   EMPLOYEE_ID FIRST_NAME LAST_NAME EMAIL PHONE_NUMBER HIRE_DATE JOB_ID  SALARY\n",
       "10 100         Steven     King      SKING 515.123.4567 17-Jun-03 AD_PRES 24000 \n",
       "   MANAGER_ID DEPARTMENT_ID\n",
       "10  -         90           "
      ]
     },
     "metadata": {},
     "output_type": "display_data"
    }
   ],
   "source": [
    "a=subset(df,SALARY==max(SALARY))\n",
    "a"
   ]
  },
  {
   "cell_type": "code",
   "execution_count": 13,
   "id": "024dc575",
   "metadata": {},
   "outputs": [
    {
     "data": {
      "text/plain": [
       "\n",
       "AC_ACCOUNT     AC_MGR    AD_ASST    AD_PRES      AD_VP FI_ACCOUNT     FI_MGR \n",
       "         1          1          1          1          2          5          1 \n",
       "    HR_REP    IT_PROG     MK_MAN     MK_REP     PR_REP   PU_CLERK     PU_MAN \n",
       "         1          5          1          1          1          5          1 \n",
       "  SH_CLERK   ST_CLERK     ST_MAN \n",
       "         2         16          5 "
      ]
     },
     "metadata": {},
     "output_type": "display_data"
    }
   ],
   "source": [
    "table(df$JOB_ID)"
   ]
  },
  {
   "cell_type": "code",
   "execution_count": 16,
   "id": "21a86e34",
   "metadata": {},
   "outputs": [
    {
     "data": {
      "text/html": [
       "<table>\n",
       "<thead><tr><th scope=col>EMPLOYEE_ID</th><th scope=col>FIRST_NAME</th><th scope=col>LAST_NAME</th><th scope=col>EMAIL</th><th scope=col>PHONE_NUMBER</th><th scope=col>HIRE_DATE</th><th scope=col>JOB_ID</th><th scope=col>SALARY</th><th scope=col>MANAGER_ID</th><th scope=col>DEPARTMENT_ID</th></tr></thead>\n",
       "<tbody>\n",
       "</tbody>\n",
       "</table>\n"
      ],
      "text/latex": [
       "\\begin{tabular}{r|llllllllll}\n",
       " EMPLOYEE\\_ID & FIRST\\_NAME & LAST\\_NAME & EMAIL & PHONE\\_NUMBER & HIRE\\_DATE & JOB\\_ID & SALARY & MANAGER\\_ID & DEPARTMENT\\_ID\\\\\n",
       "\\hline\n",
       "\\end{tabular}\n"
      ],
      "text/markdown": [
       "\n",
       "| EMPLOYEE_ID | FIRST_NAME | LAST_NAME | EMAIL | PHONE_NUMBER | HIRE_DATE | JOB_ID | SALARY | MANAGER_ID | DEPARTMENT_ID |\n",
       "|---|---|---|---|---|---|---|---|---|---|\n",
       "\n"
      ],
      "text/plain": [
       "     EMPLOYEE_ID FIRST_NAME LAST_NAME EMAIL PHONE_NUMBER HIRE_DATE JOB_ID\n",
       "     SALARY MANAGER_ID DEPARTMENT_ID"
      ]
     },
     "metadata": {},
     "output_type": "display_data"
    }
   ],
   "source": [
    "a=subset(df,JOB_ID==\"SH_CLERk\")\n",
    "a"
   ]
  },
  {
   "cell_type": "code",
   "execution_count": 17,
   "id": "1e4b33dd",
   "metadata": {},
   "outputs": [
    {
     "data": {
      "text/html": [
       "<table>\n",
       "<thead><tr><th></th><th scope=col>EMPLOYEE_ID</th><th scope=col>FIRST_NAME</th><th scope=col>LAST_NAME</th><th scope=col>EMAIL</th><th scope=col>PHONE_NUMBER</th><th scope=col>HIRE_DATE</th><th scope=col>JOB_ID</th><th scope=col>SALARY</th><th scope=col>MANAGER_ID</th><th scope=col>DEPARTMENT_ID</th></tr></thead>\n",
       "<tbody>\n",
       "\t<tr><th scope=row>13</th><td>103         </td><td>Alexander   </td><td>Hunold      </td><td>AHUNOLD     </td><td>590.423.4567</td><td>03-Jan-06   </td><td>IT_PROG     </td><td>9000        </td><td>102         </td><td>60          </td></tr>\n",
       "\t<tr><th scope=row>14</th><td>104         </td><td>Bruce       </td><td>Ernst       </td><td>BERNST      </td><td>590.423.4568</td><td>21-May-07   </td><td>IT_PROG     </td><td>6000        </td><td>103         </td><td>60          </td></tr>\n",
       "</tbody>\n",
       "</table>\n"
      ],
      "text/latex": [
       "\\begin{tabular}{r|llllllllll}\n",
       "  & EMPLOYEE\\_ID & FIRST\\_NAME & LAST\\_NAME & EMAIL & PHONE\\_NUMBER & HIRE\\_DATE & JOB\\_ID & SALARY & MANAGER\\_ID & DEPARTMENT\\_ID\\\\\n",
       "\\hline\n",
       "\t13 & 103          & Alexander    & Hunold       & AHUNOLD      & 590.423.4567 & 03-Jan-06    & IT\\_PROG    & 9000         & 102          & 60          \\\\\n",
       "\t14 & 104          & Bruce        & Ernst        & BERNST       & 590.423.4568 & 21-May-07    & IT\\_PROG    & 6000         & 103          & 60          \\\\\n",
       "\\end{tabular}\n"
      ],
      "text/markdown": [
       "\n",
       "| <!--/--> | EMPLOYEE_ID | FIRST_NAME | LAST_NAME | EMAIL | PHONE_NUMBER | HIRE_DATE | JOB_ID | SALARY | MANAGER_ID | DEPARTMENT_ID |\n",
       "|---|---|---|---|---|---|---|---|---|---|---|\n",
       "| 13 | 103          | Alexander    | Hunold       | AHUNOLD      | 590.423.4567 | 03-Jan-06    | IT_PROG      | 9000         | 102          | 60           |\n",
       "| 14 | 104          | Bruce        | Ernst        | BERNST       | 590.423.4568 | 21-May-07    | IT_PROG      | 6000         | 103          | 60           |\n",
       "\n"
      ],
      "text/plain": [
       "   EMPLOYEE_ID FIRST_NAME LAST_NAME EMAIL   PHONE_NUMBER HIRE_DATE JOB_ID \n",
       "13 103         Alexander  Hunold    AHUNOLD 590.423.4567 03-Jan-06 IT_PROG\n",
       "14 104         Bruce      Ernst     BERNST  590.423.4568 21-May-07 IT_PROG\n",
       "   SALARY MANAGER_ID DEPARTMENT_ID\n",
       "13 9000   102        60           \n",
       "14 6000   103        60           "
      ]
     },
     "metadata": {},
     "output_type": "display_data"
    }
   ],
   "source": [
    "a=subset(df,SALARY>5000 &JOB_ID =='IT_PROG')\n",
    "a"
   ]
  },
  {
   "cell_type": "code",
   "execution_count": 18,
   "id": "c4a1ad78",
   "metadata": {},
   "outputs": [
    {
     "name": "stderr",
     "output_type": "stream",
     "text": [
      "also installing the dependencies 'cpp11', 'timechange', 'generics'\n",
      "\n"
     ]
    },
    {
     "name": "stdout",
     "output_type": "stream",
     "text": [
      "\n",
      "  There are binary versions available but the source versions are later:\n",
      "           binary source needs_compilation\n",
      "cpp11       0.2.7  0.4.3             FALSE\n",
      "timechange  0.0.2  0.1.1              TRUE\n",
      "generics    0.1.0  0.1.3             FALSE\n",
      "lubridate  1.7.10  1.9.0              TRUE\n",
      "\n",
      "  Binaries will be installed\n",
      "package 'timechange' successfully unpacked and MD5 sums checked\n",
      "package 'lubridate' successfully unpacked and MD5 sums checked\n",
      "\n",
      "The downloaded binary packages are in\n",
      "\tC:\\Users\\SHYNI\\AppData\\Local\\Temp\\Rtmpms1Nnn\\downloaded_packages\n"
     ]
    },
    {
     "name": "stderr",
     "output_type": "stream",
     "text": [
      "installing the source packages 'cpp11', 'generics'\n",
      "\n"
     ]
    }
   ],
   "source": [
    "install.packages(\"lubridate\")"
   ]
  },
  {
   "cell_type": "code",
   "execution_count": 20,
   "id": "d348535f",
   "metadata": {},
   "outputs": [],
   "source": [
    "library(\"lubridate\")"
   ]
  },
  {
   "cell_type": "code",
   "execution_count": 23,
   "id": "52f02887",
   "metadata": {},
   "outputs": [
    {
     "ename": "ERROR",
     "evalue": "Error in parse(text = x, srcfile = src): <text>:2:13: unexpected INCOMPLETE_STRING\n1: library(\"xlsx\")\n2: df=read.csv(\"https://raw.githubusercontent.com/rsquaredacademy/datasets/master/transact.csv&quot;)\n               ^\n",
     "output_type": "error",
     "traceback": [
      "Error in parse(text = x, srcfile = src): <text>:2:13: unexpected INCOMPLETE_STRING\n1: library(\"xlsx\")\n2: df=read.csv(\"https://raw.githubusercontent.com/rsquaredacademy/datasets/master/transact.csv&quot;)\n               ^\nTraceback:\n"
     ]
    }
   ],
   "source": [
    "library(\"xlsx\")\n",
    "df=read.csv(\"https://raw.githubusercontent.com/rsquaredacademy/datasets/master/transact.csv&quot;)"
   ]
  },
  {
   "cell_type": "code",
   "execution_count": 24,
   "id": "0c880fe7",
   "metadata": {},
   "outputs": [
    {
     "data": {
      "text/html": [],
      "text/latex": [],
      "text/markdown": [],
      "text/plain": [
       "Date of length 0"
      ]
     },
     "metadata": {},
     "output_type": "display_data"
    }
   ],
   "source": [
    "ymd(df$Invoice)"
   ]
  },
  {
   "cell_type": "code",
   "execution_count": 28,
   "id": "d79f6c08",
   "metadata": {},
   "outputs": [
    {
     "ename": "ERROR",
     "evalue": "Error in as.POSIXlt.default(x, tz = tz(x)): do not know how to convert 'x' to class \"POSIXlt\"\n",
     "output_type": "error",
     "traceback": [
      "Error in as.POSIXlt.default(x, tz = tz(x)): do not know how to convert 'x' to class \"POSIXlt\"\nTraceback:\n",
      "1. wday(df$Invoice)",
      "2. wday.default(df$Invoice)",
      "3. wday(as.POSIXlt(x, tz = tz(x))$wday + 1, label, abbr, locale = locale, \n .     week_start = week_start)",
      "4. as.POSIXlt(x, tz = tz(x))",
      "5. as.POSIXlt.default(x, tz = tz(x))",
      "6. stop(gettextf(\"do not know how to convert '%s' to class %s\", \n .     deparse(substitute(x)), dQuote(\"POSIXlt\")), domain = NA)"
     ]
    }
   ],
   "source": [
    "wday(df$Invoice)"
   ]
  },
  {
   "cell_type": "code",
   "execution_count": 29,
   "id": "72a19aa8",
   "metadata": {},
   "outputs": [
    {
     "ename": "ERROR",
     "evalue": "Error in as.POSIXlt.default(x, tz = tz(x)): do not know how to convert 'x' to class \"POSIXlt\"\n",
     "output_type": "error",
     "traceback": [
      "Error in as.POSIXlt.default(x, tz = tz(x)): do not know how to convert 'x' to class \"POSIXlt\"\nTraceback:\n",
      "1. month(df$Invoice)",
      "2. month.default(df$Invoice)",
      "3. month(as.POSIXlt(x, tz = tz(x))$mon + 1, label, abbr, locale = locale)",
      "4. as.POSIXlt(x, tz = tz(x))",
      "5. as.POSIXlt.default(x, tz = tz(x))",
      "6. stop(gettextf(\"do not know how to convert '%s' to class %s\", \n .     deparse(substitute(x)), dQuote(\"POSIXlt\")), domain = NA)"
     ]
    }
   ],
   "source": [
    "month(df$Invoice)"
   ]
  },
  {
   "cell_type": "code",
   "execution_count": 30,
   "id": "e77f0c86",
   "metadata": {},
   "outputs": [
    {
     "ename": "ERROR",
     "evalue": "Error in as.POSIXlt.default(x, tz = tz(x)): do not know how to convert 'x' to class \"POSIXlt\"\n",
     "output_type": "error",
     "traceback": [
      "Error in as.POSIXlt.default(x, tz = tz(x)): do not know how to convert 'x' to class \"POSIXlt\"\nTraceback:\n",
      "1. day(df$Invoice)",
      "2. mday.default(df$Invoice)",
      "3. as.POSIXlt(x, tz = tz(x))",
      "4. as.POSIXlt.default(x, tz = tz(x))",
      "5. stop(gettextf(\"do not know how to convert '%s' to class %s\", \n .     deparse(substitute(x)), dQuote(\"POSIXlt\")), domain = NA)"
     ]
    }
   ],
   "source": [
    "day(df$Invoice)"
   ]
  },
  {
   "cell_type": "code",
   "execution_count": 31,
   "id": "f534617d",
   "metadata": {},
   "outputs": [
    {
     "data": {
      "text/plain": [
       "NULL"
      ]
     },
     "metadata": {},
     "output_type": "display_data"
    }
   ],
   "source": [
    "df$Invoice"
   ]
  },
  {
   "cell_type": "code",
   "execution_count": 32,
   "id": "e501e95a",
   "metadata": {},
   "outputs": [
    {
     "ename": "ERROR",
     "evalue": "Error in as.Date.default(df$Due): do not know how to convert 'df$Due' to class \"Date\"\n",
     "output_type": "error",
     "traceback": [
      "Error in as.Date.default(df$Due): do not know how to convert 'df$Due' to class \"Date\"\nTraceback:\n",
      "1. as.Date(df$Due)",
      "2. as.Date.default(df$Due)",
      "3. stop(gettextf(\"do not know how to convert '%s' to class %s\", \n .     deparse(substitute(x)), dQuote(\"Date\")), domain = NA)"
     ]
    }
   ],
   "source": [
    "a=as.Date(df$Due)-as.Date(df$Invoice)\n",
    "a"
   ]
  },
  {
   "cell_type": "code",
   "execution_count": null,
   "id": "76da7205",
   "metadata": {},
   "outputs": [],
   "source": []
  }
 ],
 "metadata": {
  "kernelspec": {
   "display_name": "R",
   "language": "R",
   "name": "ir"
  },
  "language_info": {
   "codemirror_mode": "r",
   "file_extension": ".r",
   "mimetype": "text/x-r-source",
   "name": "R",
   "pygments_lexer": "r",
   "version": "3.6.1"
  }
 },
 "nbformat": 4,
 "nbformat_minor": 5
}
